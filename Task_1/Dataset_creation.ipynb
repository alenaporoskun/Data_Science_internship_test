{
 "cells": [
  {
   "cell_type": "markdown",
   "id": "cd5c98ad",
   "metadata": {},
   "source": [
    "# Data Science\n",
    "\n",
    "## Task 1. Natural Language Processing. Named entity recognition\n",
    "\n",
    "\n",
    "In this task, we need to train a named entity recognition (NER) model for the identification of mountain names inside the texts. For this purpose you need:  \n",
    "\n",
    "* Find / create a dataset with labeled mountains.  \n",
    "\n",
    "* Select the relevant architecture of the model for NER solving.  \n",
    "\n",
    "* Train / finetune the model. \n",
    "\n",
    "* Prepare demo code / notebook of the inference results.  \n",
    "\n",
    "  \n",
    "The output for this task should contain:  \n",
    "\n",
    "* **Jupyter notebook that explains the process of the dataset creation.**\n",
    "* Dataset including all artifacts it consists of.\n",
    "* Link to model weights.\n",
    "* Python script (.py) for model training.\n",
    "* Python script (.py) for model inference.\n",
    "* Jupyter notebook with demo.\n"
   ]
  },
  {
   "cell_type": "markdown",
   "id": "dedf7d4f",
   "metadata": {},
   "source": [
    "**Jupyter notebook that explains the process of the dataset creation.**"
   ]
  },
  {
   "cell_type": "code",
   "execution_count": 1,
   "id": "42b698af",
   "metadata": {},
   "outputs": [],
   "source": [
    "# Import the required libraries\n",
    "import os\n",
    "import spacy\n",
    "import pickle"
   ]
  },
  {
   "cell_type": "code",
   "execution_count": 2,
   "id": "c2191a50",
   "metadata": {},
   "outputs": [
    {
     "name": "stdout",
     "output_type": "stream",
     "text": [
      "3.7.2\n"
     ]
    }
   ],
   "source": [
    "print(spacy.__version__)"
   ]
  },
  {
   "cell_type": "code",
   "execution_count": 3,
   "id": "5a74d12d",
   "metadata": {},
   "outputs": [],
   "source": [
    "# Initial data\n",
    "mountain_names = set([\n",
    "    \"Everest\", \"K2\", \"Matterhorn\", \"Denali\", \"Kangchenjunga\", \"Annapurna\",\n",
    "    \"Aconcagua\", \"Kilimanjaro\", \"Elbrus\", \"Mont Blanc\", \"Mount Fuji\", \"Mount McKinley\",\n",
    "    \"Mount Rainier\", \"Mount Whitney\", \"Matterhorn\", \"Grand Teton\", \"Pikes Peak\"\n",
    "])\n",
    "\n",
    "texts = [\n",
    "    \"Everest is the highest mountain in the world.\",\n",
    "    \"Denali, also known as Mount McKinley, is the highest peak in North America.\",\n",
    "    \"The stunning Matterhorn is located in the Pennine Alps on the border between Switzerland and Italy.\",\n",
    "    \"Kangchenjunga is the third highest mountain in the world.\",\n",
    "    \"Aconcagua is the highest peak in South America.\",\n",
    "    \"Everest, standing proudly in the heart of the Himalayas, is a formidable challenge for mountaineers seeking to conquer its lofty peak and experience the breathtaking vistas from the top of the world.\",\n",
    "    \"K2 is the second-highest mountain in the world, after Everest.\",\n",
    "    \"The summit of Kilimanjaro is well-known for its breathtaking views.\",\n",
    "    \"Elbrus is the highest mountain in Europe, situated in the western Caucasus mountain range.\",\n",
    "    \"Mont Blanc is the highest mountain in the Alps, situated on the border between France and Italy.\",\n",
    "    \"Mount Fuji, an iconic stratovolcano, is Japan's highest peak and a symbol of natural beauty.\",\n",
    "    \"Mount McKinley, also known as Denali, is the tallest mountain in North America, located in Alaska.\",\n",
    "    \"Mount Rainier, a massive stratovolcano, dominates the skyline in the state of Washington.\",\n",
    "    \"Mount Whitney, the highest summit in the contiguous United States, is part of the Sierra Nevada mountain range.\",\n",
    "    \"The Matterhorn, with its distinctive pyramid shape, is a famous peak in the Pennine Alps on the Swiss-Italian border.\",\n",
    "    \"Grand Teton, part of the Teton Range in Wyoming, is known for its stunning and rugged mountain scenery.\",\n",
    "    \"Pikes Peak, standing tall in the Rocky Mountains, is one of Colorado's most famous fourteeners.\"\n",
    "]"
   ]
  },
  {
   "cell_type": "code",
   "execution_count": 4,
   "id": "ab06f0e1",
   "metadata": {},
   "outputs": [],
   "source": [
    "# Loading an empty spaCy model\n",
    "nlp = spacy.blank(\"en\")\n",
    "\n",
    "# Adding a component for recognizing named entities\n",
    "ner = nlp.add_pipe(\"ner\")\n",
    "\n",
    "# Preparing training data\n",
    "train_data = []\n",
    "\n",
    "for text in texts:\n",
    "    entities = []\n",
    "    doc = nlp.make_doc(text)\n",
    "\n",
    "    for mountain_name in mountain_names:\n",
    "        start = text.find(mountain_name)\n",
    "        end = start + len(mountain_name)\n",
    "        \n",
    "        # Formation of labels in IOB format\n",
    "        if start != -1:\n",
    "            entities.append((start, end, f\"MOUNTAIN\"))\n",
    "            \n",
    "    train_data.append((doc, {\"entities\": entities}))"
   ]
  },
  {
   "cell_type": "code",
   "execution_count": 5,
   "id": "4be015b6",
   "metadata": {},
   "outputs": [],
   "source": [
    "# Path to the directory to save files\n",
    "train_data_path = './data/'\n",
    "\n",
    "# Create a catalog if it does not exist\n",
    "os.makedirs(train_data_path, exist_ok=True)\n",
    "\n",
    "# Saving training data with pickle\n",
    "with open(os.path.join(train_data_path, 'train_data.pkl'), 'wb') as file:\n",
    "    pickle.dump(train_data, file)"
   ]
  }
 ],
 "metadata": {
  "kernelspec": {
   "display_name": "Python 3 (ipykernel)",
   "language": "python",
   "name": "python3"
  },
  "language_info": {
   "codemirror_mode": {
    "name": "ipython",
    "version": 3
   },
   "file_extension": ".py",
   "mimetype": "text/x-python",
   "name": "python",
   "nbconvert_exporter": "python",
   "pygments_lexer": "ipython3",
   "version": "3.9.13"
  }
 },
 "nbformat": 4,
 "nbformat_minor": 5
}
