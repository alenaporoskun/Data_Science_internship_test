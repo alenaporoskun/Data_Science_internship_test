{
 "cells": [
  {
   "cell_type": "markdown",
   "id": "d5cbc08c",
   "metadata": {},
   "source": [
    "**Jupyter notebook with demo.**"
   ]
  },
  {
   "cell_type": "markdown",
   "id": "cb67896a",
   "metadata": {},
   "source": [
    "The code demonstrates the use of the downloaded spaCy model to recognize named entities (NERs) in the given test texts. Each test text is processed by the loaded model, and for each text, the original text and the identified named entities are output along with their labels. A separator output is added to make the results easier to read."
   ]
  },
  {
   "cell_type": "code",
   "execution_count": 1,
   "id": "8cc54578",
   "metadata": {},
   "outputs": [],
   "source": [
    "import spacy"
   ]
  },
  {
   "cell_type": "code",
   "execution_count": 2,
   "id": "7668fb1e",
   "metadata": {},
   "outputs": [],
   "source": [
    "# Loading an spaCy model\n",
    "output_dir = \"C:/Users/Admin/Test_task/Task_1/model_spacy\"\n",
    "loaded_nlp = spacy.load(output_dir)"
   ]
  },
  {
   "cell_type": "code",
   "execution_count": 3,
   "id": "dd8dd572",
   "metadata": {},
   "outputs": [],
   "source": [
    "# Test data\n",
    "test_texts = [\n",
    "    \"The majestic K2 is a challenging peak for climbers.\",\n",
    "    \"Mount McKinley, also known as Denali, is located in Alaska.\",\n",
    "    \"Mont Blanc is a popular destination for alpine enthusiasts.\",\n",
    "    \"Kangchenjunga is one of the most beautiful mountains in the Himalayas.\"\n",
    "]"
   ]
  },
  {
   "cell_type": "code",
   "execution_count": 4,
   "id": "98045c7e",
   "metadata": {},
   "outputs": [
    {
     "name": "stdout",
     "output_type": "stream",
     "text": [
      "Original Text: The majestic K2 is a challenging peak for climbers.\n",
      "Entities: [('K2', 'MOUNTAIN')]\n",
      "\n",
      "--------------------------------------------------\n",
      "\n",
      "Original Text: Mount McKinley, also known as Denali, is located in Alaska.\n",
      "Entities: [('Mount McKinley', 'MOUNTAIN'), ('Denali', 'MOUNTAIN')]\n",
      "\n",
      "--------------------------------------------------\n",
      "\n",
      "Original Text: Mont Blanc is a popular destination for alpine enthusiasts.\n",
      "Entities: [('Mont Blanc', 'MOUNTAIN')]\n",
      "\n",
      "--------------------------------------------------\n",
      "\n",
      "Original Text: Kangchenjunga is one of the most beautiful mountains in the Himalayas.\n",
      "Entities: [('Kangchenjunga', 'MOUNTAIN')]\n",
      "\n",
      "--------------------------------------------------\n",
      "\n"
     ]
    }
   ],
   "source": [
    "# Recognize named entities for each test text\n",
    "for test_text in test_texts:\n",
    "    \n",
    "    # Using the downloaded spaCy model for text processing\n",
    "    doc = loaded_nlp(test_text)\n",
    "    \n",
    "    # Output of the original text\n",
    "    print(\"Original Text:\", test_text)\n",
    "    \n",
    "    # Displaying named entities and their labels\n",
    "    print(\"Entities:\", [(ent.text, ent.label_) for ent in doc.ents])\n",
    "    \n",
    "    # Display a divider for better visibility of results\n",
    "    print(\"\\n\" + \"-\"*50 + \"\\n\")"
   ]
  }
 ],
 "metadata": {
  "kernelspec": {
   "display_name": "Python 3 (ipykernel)",
   "language": "python",
   "name": "python3"
  },
  "language_info": {
   "codemirror_mode": {
    "name": "ipython",
    "version": 3
   },
   "file_extension": ".py",
   "mimetype": "text/x-python",
   "name": "python",
   "nbconvert_exporter": "python",
   "pygments_lexer": "ipython3",
   "version": "3.9.13"
  }
 },
 "nbformat": 4,
 "nbformat_minor": 5
}
